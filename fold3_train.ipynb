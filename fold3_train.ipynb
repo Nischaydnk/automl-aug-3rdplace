{
 "cells": [
  {
   "attachments": {},
   "cell_type": "markdown",
   "id": "de773dc5",
   "metadata": {
    "papermill": {
     "duration": 0.00671,
     "end_time": "2024-08-01T05:20:39.478780",
     "exception": false,
     "start_time": "2024-08-01T05:20:39.472070",
     "status": "completed"
    },
    "tags": []
   },
   "source": [
    "# Install libraries"
   ]
  },
  {
   "attachments": {},
   "cell_type": "markdown",
   "id": "04ff6a87",
   "metadata": {
    "papermill": {
     "duration": 0.006271,
     "end_time": "2024-08-01T05:24:12.963341",
     "exception": false,
     "start_time": "2024-08-01T05:24:12.957070",
     "status": "completed"
    },
    "tags": []
   },
   "source": [
    "# Import modules"
   ]
  },
  {
   "cell_type": "code",
   "execution_count": null,
   "id": "e2143072",
   "metadata": {
    "papermill": {
     "duration": 2.847482,
     "end_time": "2024-08-01T05:24:15.817139",
     "exception": false,
     "start_time": "2024-08-01T05:24:12.969657",
     "status": "completed"
    },
    "tags": []
   },
   "outputs": [],
   "source": [
    "import numpy as np\n",
    "import pandas as pd\n",
    "from sklearn.model_selection import KFold\n",
    "from sklearn import metrics\n",
    "from autogluon.tabular import TabularDataset, TabularPredictor\n",
    "from autogluon.core.metrics import make_scorer\n",
    "import gc\n",
    "import warnings\n",
    "warnings.simplefilter(action='ignore', category=FutureWarning)"
   ]
  },
  {
   "cell_type": "code",
   "execution_count": null,
   "id": "1e9c8562-9a17-41ad-9fca-51626648ba2f",
   "metadata": {},
   "outputs": [],
   "source": [
    "from sklearn.model_selection import *\n"
   ]
  },
  {
   "attachments": {},
   "cell_type": "markdown",
   "id": "cfb656eb",
   "metadata": {
    "papermill": {
     "duration": 0.007563,
     "end_time": "2024-08-01T05:24:15.831425",
     "exception": false,
     "start_time": "2024-08-01T05:24:15.823862",
     "status": "completed"
    },
    "tags": []
   },
   "source": [
    "# Configurations"
   ]
  },
  {
   "cell_type": "code",
   "execution_count": null,
   "id": "5e72f376",
   "metadata": {
    "papermill": {
     "duration": 0.013595,
     "end_time": "2024-08-01T05:24:15.851379",
     "exception": false,
     "start_time": "2024-08-01T05:24:15.837784",
     "status": "completed"
    },
    "tags": []
   },
   "outputs": [],
   "source": [
    "CONFIG = {\n",
    "    \"n_folds\" : 4,\n",
    "    \"fold\" : 2,\n",
    "    \"seed\" : 69,\n",
    "    \"drop_cols\" : [],\n",
    "    \"target\" : \"class\",\n",
    "    \"presets\" : \"optimize_for_deployment\",\n",
    "    \"binary_threshold\" : 0.5,\n",
    "}"
   ]
  },
  {
   "attachments": {},
   "cell_type": "markdown",
   "id": "c63f6707",
   "metadata": {
    "papermill": {
     "duration": 0.005956,
     "end_time": "2024-08-01T05:24:15.863598",
     "exception": false,
     "start_time": "2024-08-01T05:24:15.857642",
     "status": "completed"
    },
    "tags": []
   },
   "source": [
    "# Load data"
   ]
  },
  {
   "cell_type": "code",
   "execution_count": null,
   "id": "3a4489db",
   "metadata": {
    "papermill": {
     "duration": 0.012827,
     "end_time": "2024-08-01T05:24:15.882636",
     "exception": false,
     "start_time": "2024-08-01T05:24:15.869809",
     "status": "completed"
    },
    "tags": []
   },
   "outputs": [],
   "source": [
    "DATA_PATH = '/home/nischay/auto4/data'\n",
    "train_path = f'{DATA_PATH}/train.csv'\n",
    "test_path = f'{DATA_PATH}/test.csv'\n",
    "sub_path = f'{DATA_PATH}/sample_submission.csv'"
   ]
  },
  {
   "cell_type": "code",
   "execution_count": null,
   "id": "32d1834e",
   "metadata": {
    "papermill": {
     "duration": 9.441631,
     "end_time": "2024-08-01T05:24:25.330523",
     "exception": false,
     "start_time": "2024-08-01T05:24:15.888892",
     "status": "completed"
    },
    "tags": []
   },
   "outputs": [],
   "source": [
    "df_train = pd.read_csv(train_path)\n",
    "df_train.shape"
   ]
  },
  {
   "attachments": {},
   "cell_type": "markdown",
   "id": "e5003521",
   "metadata": {
    "papermill": {
     "duration": 0.006289,
     "end_time": "2024-08-01T05:24:25.343609",
     "exception": false,
     "start_time": "2024-08-01T05:24:25.337320",
     "status": "completed"
    },
    "tags": []
   },
   "source": [
    "# Preprocessing"
   ]
  },
  {
   "cell_type": "code",
   "execution_count": null,
   "id": "a83d91f6",
   "metadata": {
    "papermill": {
     "duration": 1.970969,
     "end_time": "2024-08-01T05:24:27.321018",
     "exception": false,
     "start_time": "2024-08-01T05:24:25.350049",
     "status": "completed"
    },
    "tags": []
   },
   "outputs": [],
   "source": [
    "dict_class2label = {\"e\":0, \"p\":1}\n",
    "dict_label2class = {0:\"e\", \"p\":1}\n",
    "df_train[CONFIG[\"target\"]] = df_train[CONFIG[\"target\"]].apply(lambda x: dict_class2label[x])"
   ]
  },
  {
   "attachments": {},
   "cell_type": "markdown",
   "id": "dcf50d6f",
   "metadata": {
    "papermill": {
     "duration": 0.006344,
     "end_time": "2024-08-01T05:24:27.334502",
     "exception": false,
     "start_time": "2024-08-01T05:24:27.328158",
     "status": "completed"
    },
    "tags": []
   },
   "source": [
    "# Split data with KFold"
   ]
  },
  {
   "cell_type": "code",
   "execution_count": null,
   "id": "2a08473f",
   "metadata": {
    "papermill": {
     "duration": 0.435776,
     "end_time": "2024-08-01T05:24:27.776697",
     "exception": false,
     "start_time": "2024-08-01T05:24:27.340921",
     "status": "completed"
    },
    "tags": []
   },
   "outputs": [],
   "source": [
    "kf = StratifiedKFold(n_splits=CONFIG['n_folds'], shuffle=True, random_state=CONFIG[\"seed\"])\n",
    "\n",
    "for fold, ( _, val_) in enumerate(kf.split(df_train, df_train[CONFIG[\"target\"]])):\n",
    "      df_train.loc[val_ , \"kfold\"] = int(fold)"
   ]
  },
  {
   "cell_type": "code",
   "execution_count": null,
   "id": "c32def82",
   "metadata": {
    "papermill": {
     "duration": 0.014862,
     "end_time": "2024-08-01T05:24:27.798415",
     "exception": false,
     "start_time": "2024-08-01T05:24:27.783553",
     "status": "completed"
    },
    "tags": []
   },
   "outputs": [],
   "source": [
    "def prepare_datasets(df, fold, drop_columns=[]):\n",
    "    _df_train = df[df.kfold != fold].reset_index(drop=True)\n",
    "    _df_valid = df[df.kfold == fold].reset_index(drop=True)\n",
    "\n",
    "    # drop \"id\" column\n",
    "    _df_train = _df_train.drop(columns=drop_columns)\n",
    "    _df_valid = _df_valid.drop(columns=drop_columns)\n",
    "    \n",
    "    train_data = TabularDataset(_df_train)\n",
    "    valid_data = TabularDataset(_df_valid)\n",
    "    return train_data, valid_data"
   ]
  },
  {
   "cell_type": "code",
   "execution_count": null,
   "id": "ae534f12",
   "metadata": {
    "papermill": {
     "duration": 2.19105,
     "end_time": "2024-08-01T05:24:29.995708",
     "exception": false,
     "start_time": "2024-08-01T05:24:27.804658",
     "status": "completed"
    },
    "tags": []
   },
   "outputs": [],
   "source": [
    "train_data, valid_data = prepare_datasets(\n",
    "    df_train, CONFIG[\"fold\"], drop_columns=CONFIG[\"drop_cols\"]\n",
    ")"
   ]
  },
  {
   "attachments": {},
   "cell_type": "markdown",
   "id": "3ebfa03b",
   "metadata": {
    "papermill": {
     "duration": 0.006351,
     "end_time": "2024-08-01T05:24:30.008979",
     "exception": false,
     "start_time": "2024-08-01T05:24:30.002628",
     "status": "completed"
    },
    "tags": []
   },
   "source": [
    "# Custom metrics (MCC)"
   ]
  },
  {
   "cell_type": "code",
   "execution_count": null,
   "id": "76c5e32d",
   "metadata": {
    "papermill": {
     "duration": 0.013723,
     "end_time": "2024-08-01T05:24:30.029214",
     "exception": false,
     "start_time": "2024-08-01T05:24:30.015491",
     "status": "completed"
    },
    "tags": []
   },
   "outputs": [],
   "source": [
    "ag_mcc_scorer = make_scorer(name='mcc',\n",
    "                                 score_func=metrics.matthews_corrcoef,\n",
    "                                 optimum=1,\n",
    "                                 greater_is_better=True)"
   ]
  },
  {
   "cell_type": "code",
   "execution_count": null,
   "id": "794a5a1f",
   "metadata": {},
   "outputs": [],
   "source": [
    "hyperparameters = {\n",
    "\t'NN_TORCH': {},\n",
    "\t'GBM': {'extra_trees': True, 'ag_args': {'name_suffix': 'XT'}},\n",
    "\t'CAT': {'max_depth':12},\n",
    "\t'XGB': {'grow_policy': 'depthwise', 'learning_rate': 0.0626750932713805277,\n",
    "              'n_estimators': 240, 'max_depth': 20, 'reg_lambda': 0.27,\n",
    "              'min_child_weight': 4.952710346179816, 'subsample': 0.953, \n",
    "              'colsample_bytree': 0.7539110455959812, 'tree_method': 'hist',\n",
    "              'enable_categorical': True, 'gamma': 0,},\n",
    "\t'FASTAI': {},\n",
    "\t'RF': {'criterion': 'gini', 'ag_args': {'name_suffix': 'Gini', 'problem_types': ['binary', 'multiclass']}},\n",
    "}\n"
   ]
  },
  {
   "attachments": {},
   "cell_type": "markdown",
   "id": "74bc3667",
   "metadata": {
    "papermill": {
     "duration": 0.006235,
     "end_time": "2024-08-01T05:24:30.041784",
     "exception": false,
     "start_time": "2024-08-01T05:24:30.035549",
     "status": "completed"
    },
    "tags": []
   },
   "source": [
    "# Training model"
   ]
  },
  {
   "cell_type": "code",
   "execution_count": null,
   "id": "3cc05b80",
   "metadata": {
    "papermill": {
     "duration": 0.013837,
     "end_time": "2024-08-01T05:24:30.061981",
     "exception": false,
     "start_time": "2024-08-01T05:24:30.048144",
     "status": "completed"
    },
    "tags": []
   },
   "outputs": [],
   "source": [
    "predictor = TabularPredictor(\n",
    "    label=CONFIG[\"target\"],\n",
    "    problem_type=\"binary\",\n",
    "    path=\"exp1_f3/predictor\",\n",
    ")"
   ]
  },
  {
   "cell_type": "code",
   "execution_count": null,
   "id": "a345f952",
   "metadata": {
    "_kg_hide-output": true,
    "papermill": {
     "duration": 9849.959371,
     "end_time": "2024-08-01T08:08:40.027852",
     "exception": false,
     "start_time": "2024-08-01T05:24:30.068481",
     "status": "completed"
    },
    "tags": []
   },
   "outputs": [],
   "source": [
    "%%time\n",
    "predictor.fit(\n",
    "    train_data,\n",
    "    tuning_data=valid_data,\n",
    "    save_space=True,\n",
    "    hyperparameters = hyperparameters,\n",
    "    presets=CONFIG[\"presets\"],\n",
    "    use_bag_holdout=True,\n",
    "    ag_args_fit={'num_gpus': 3},\n",
    ")"
   ]
  },
  {
   "attachments": {},
   "cell_type": "markdown",
   "id": "ff8ab217",
   "metadata": {
    "papermill": {
     "duration": 0.01852,
     "end_time": "2024-08-01T08:08:40.065091",
     "exception": false,
     "start_time": "2024-08-01T08:08:40.046571",
     "status": "completed"
    },
    "tags": []
   },
   "source": [
    "# Model summary (Leaderboard)"
   ]
  },
  {
   "cell_type": "code",
   "execution_count": null,
   "id": "36f5c7a6",
   "metadata": {
    "papermill": {
     "duration": 330.31947,
     "end_time": "2024-08-01T08:14:10.402625",
     "exception": false,
     "start_time": "2024-08-01T08:08:40.083155",
     "status": "completed"
    },
    "tags": []
   },
   "outputs": [],
   "source": [
    "predictor.leaderboard(valid_data, extra_metrics=[ag_mcc_scorer], silent=True)"
   ]
  },
  {
   "cell_type": "code",
   "execution_count": null,
   "id": "9c7350e1-4b1b-48c4-83b5-4f7f8711a3a6",
   "metadata": {},
   "outputs": [],
   "source": [
    "predictor"
   ]
  },
  {
   "attachments": {},
   "cell_type": "markdown",
   "id": "0b83fbd8",
   "metadata": {
    "papermill": {
     "duration": 0.018641,
     "end_time": "2024-08-01T08:14:10.440318",
     "exception": false,
     "start_time": "2024-08-01T08:14:10.421677",
     "status": "completed"
    },
    "tags": []
   },
   "source": [
    "# Inference"
   ]
  },
  {
   "cell_type": "code",
   "execution_count": null,
   "id": "88a8ac78",
   "metadata": {
    "papermill": {
     "duration": 6.187742,
     "end_time": "2024-08-01T08:14:16.646868",
     "exception": false,
     "start_time": "2024-08-01T08:14:10.459126",
     "status": "completed"
    },
    "tags": []
   },
   "outputs": [],
   "source": [
    "df_test = pd.read_csv(test_path)\n",
    "df_test = df_test.drop(columns=CONFIG[\"drop_cols\"])\n",
    "test_data = TabularDataset(df_test)"
   ]
  },
  {
   "cell_type": "code",
   "execution_count": null,
   "id": "e24fba3c-56e0-4586-acf9-f6a5a0a47814",
   "metadata": {},
   "outputs": [],
   "source": [
    "test_data['kfold'] = CONFIG[\"fold\"]"
   ]
  },
  {
   "cell_type": "code",
   "execution_count": null,
   "id": "ff01fcc0",
   "metadata": {
    "papermill": {
     "duration": 2.240976,
     "end_time": "2024-08-01T08:14:18.907454",
     "exception": true,
     "start_time": "2024-08-01T08:14:16.666478",
     "status": "failed"
    },
    "tags": []
   },
   "outputs": [],
   "source": [
    "y_pred = predictor.predict_proba(test_data).iloc[:, 1].values\n",
    "df_test[\"pred\"] = y_pred\n"
   ]
  },
  {
   "cell_type": "code",
   "execution_count": null,
   "id": "d73c0775-7142-4892-a9ee-b261c5392776",
   "metadata": {},
   "outputs": [],
   "source": [
    "df_test[['id','pred']].to_csv(f\"exp1_f3/raw_preds.csv\", index=False)\n"
   ]
  },
  {
   "cell_type": "code",
   "execution_count": null,
   "id": "b542ab7e-626a-4d1a-ba9e-16205ae765ec",
   "metadata": {},
   "outputs": [],
   "source": [
    "df_test[['id','pred']]"
   ]
  },
  {
   "cell_type": "code",
   "execution_count": null,
   "id": "ef811862-5307-4ace-8e28-574a4d08e5ca",
   "metadata": {},
   "outputs": [],
   "source": []
  }
 ],
 "metadata": {
  "kaggle": {
   "accelerator": "gpu",
   "dataSources": [
    {
     "databundleVersionId": 9045607,
     "sourceId": 76727,
     "sourceType": "competition"
    }
   ],
   "dockerImageVersionId": 30673,
   "isGpuEnabled": true,
   "isInternetEnabled": true,
   "language": "python",
   "sourceType": "notebook"
  },
  "kernelspec": {
   "display_name": "kaggle",
   "language": "python",
   "name": "kaggle"
  },
  "language_info": {
   "codemirror_mode": {
    "name": "ipython",
    "version": 3
   },
   "file_extension": ".py",
   "mimetype": "text/x-python",
   "name": "python",
   "nbconvert_exporter": "python",
   "pygments_lexer": "ipython3",
   "version": "3.8.10"
  },
  "papermill": {
   "default_parameters": {},
   "duration": 10424.907869,
   "end_time": "2024-08-01T08:14:21.741791",
   "environment_variables": {},
   "exception": true,
   "input_path": "__notebook__.ipynb",
   "output_path": "__notebook__.ipynb",
   "parameters": {},
   "start_time": "2024-08-01T05:20:36.833922",
   "version": "2.5.0"
  }
 },
 "nbformat": 4,
 "nbformat_minor": 5
}
